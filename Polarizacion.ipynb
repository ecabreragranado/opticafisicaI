{
 "cells": [
  {
   "cell_type": "markdown",
   "metadata": {
    "collapsed": false
   },
   "source": [
    "# Polarizacion"
   ]
  },
  {
   "cell_type": "markdown",
   "metadata": {
    "collapsed": false
   },
   "source": [
    "Una de las propiedades de las ondas electromagneticas planas es la transversalidad de los campos electrico y magnetico. Esto quiere decir que tanto el campo electrico como el magnetico son perpendiculares a la direccion de propagacion de la onda, ademas de perpendiculares entre si. Por tanto, si sabemos el vector $\\vec{k}$ de la onda, y como esta vibrando el campo electrico $\\vec{E}$, sabemos todo sobre el estado de la odna electromagnetica plana, ya que podemos determinar el campo magnetico $\\vec{B}$. La polarizacion de la onda nos describe justo como vibra el campo electrico de la onda. Por ejemplo, si el campo electrico vibra en el espacio a lo largo de una recta, diremos que la onda posee **polarizacion lineal**, mientras que si dibuja en el espacio una circunferencia o una elipse, tendremos **polarizacion circular o eliptica**.\n",
    "\n",
    "Vamos a suponer que tenemos una onda e.m. que se propaga a lo largo del eje Y, por lo que el campo electrico ha de estar contenido en el plano XZ (solo tendra componentes no nulas $E_x$ y $E_z$). Ademas, si la onda es armonica, lo mas general que podemos tener sera:\n",
    "\n",
    "$$E_x = E_{0x}\\cos(k y - \\omega t)$$\n",
    "$$E_z = E_{0x}\\cos(k y - \\omega t + \\delta)$$\n",
    "\n",
    "En las anteriores ecuaciones, $\\delta$ es el desfase entre las dos componentes del campo. Como vibra el campo electrico depende de este desfase, o lo que es lo mismo, la polarizacion de la onda e.m. depende de este desfase $\\delta$. Mas concretamente, si $\\delta = 0,\\pm \\pi, \\pm 2\\pi, \\ldots$ rad entonces el campo vibrara en el espacio a lo largo de una recta, y la polarizacion se denominara **polarizacion lineal**. Si $\\delta = (2 m +1) \\pi /2 $ rad, y las amplitudes de las componentes $E_{0x}$ y $E_{0z}$ son iguales, tendremos **polarizacion circular**. Finalmente, para cualquier otro caso, tendremos **polarizacion eliptica**.\n",
    "\n",
    "Vamos a demostrarlo obteniendo la ecuacion del lugar geometrico que describe el campo en su movimiento. Operando en las ecuaciones anteriores de la evolucion de las componentes $E_x$ y $E_z$ del campo, tenemos, \n",
    "\n",
    "$$\\frac{E_x}{E_{0x}} = \\cos( k y - \\omega t)$$\n",
    "$$\\frac{E_z}{E_{0z}} = \\cos( k y - \\omega t + \\delta) =  \\cos(k y - \\omgta t) \\cos(\\delta) - \\sin(k y - \\omega t) \\sin(\\delta)$$"
   ]
  },
  {
   "cell_type": "code",
   "execution_count": 1,
   "metadata": {
    "collapsed": false
   },
   "outputs": [
    {
     "data": {
      "application/vnd.jupyter.widget-view+json": {
       "model_id": "53c3cd8ab8934eed99dd012079ac592e",
       "version_major": 2,
       "version_minor": 0
      },
      "text/plain": [
       "VBox(children=(FloatSlider(value=0.0, description='Desfase (unidades de pi)', layout=Layout(height='80px', wid…"
      ]
     },
     "execution_count": 1,
     "metadata": {
     },
     "output_type": "execute_result"
    }
   ],
   "source": [
    "import numpy as np\n",
    "import matplotlib.pyplot as plt\n",
    "import ipywidgets as widgets\n",
    "widgets.__version__\n",
    "from IPython.display import display,clear_output\n",
    "\n",
    "w = 0.3\n",
    "t = np.linspace(0,7/w,100)\n",
    "E0x = 1\n",
    "E0y = 1\n",
    "v = 1\n",
    "k = w/v\n",
    "\n",
    "plt.ioff()\n",
    "ax=plt.gca()\n",
    "ax.set_aspect(0.9)\n",
    "ax.set_frame_on(False)\n",
    "\n",
    "out=widgets.Output()\n",
    "button=widgets.Button(description='Mostrar')\n",
    "style = {'description_width': 'initial'}\n",
    "deltaww = widgets.FloatSlider(value=0,min=-2.0,max=2.0,step = 0.2, description=r'Desfase (unidades de pi)',\n",
    "                            style=style,layout=widgets.Layout(width='30%', height='80px'))\n",
    "timeww = widgets.FloatSlider(description='tiempo')\n",
    "play = widgets.Play(\n",
    "    value=0,\n",
    "    min=0,\n",
    "    max=8/w,\n",
    "    step=1,\n",
    "    interval=1000,\n",
    "    description=\"Press play\",\n",
    "    disabled=False\n",
    ")\n",
    "widgets.jslink((play, 'value'), (timeww, 'value'))\n",
    "vbox=widgets.VBox(children=(deltaww,play,timeww,out))\n",
    "display(vbox)\n",
    "\n",
    "\n",
    "\n",
    "def observe(b):\n",
    "    delta = deltaww.value*np.pi\n",
    "    E0x=1\n",
    "    E0y=1\n",
    "    Ex = E0x*np.cos(w*t)\n",
    "    Ey = E0y*np.cos(w*t + delta)\n",
    "    ax.clear()\n",
    "    ax.plot(Ex,Ey)\n",
    "    display(ax.figure)\n",
    "    ax.set_xlabel('Ex')\n",
    "    ax.set_ylabel('Ey')\n",
    "    ax.arrow(0,0,0,E0y*np.cos(w*b['new'] + delta), head_width=0.03,length_includes_head=True)\n",
    "    ax.arrow(0,0,E0x*np.cos(w*b['new']),0,head_width=0.03,length_includes_head=True)\n",
    "    ax.arrow(0,0,E0x*np.cos(w*b['new']),E0y*np.cos(w*timeww.value +delta),head_width=0.03,length_includes_head=True,color='red')\n",
    "    with out:\n",
    "        clear_output(wait=True)\n",
    "        display(ax.figure)\n",
    "timeww.observe(observe,names='value')\n",
    "\n",
    "\n"
   ]
  },
  {
   "cell_type": "code",
   "execution_count": 0,
   "metadata": {
    "collapsed": false
   },
   "outputs": [
   ],
   "source": [
   ]
  }
 ],
 "metadata": {
  "kernelspec": {
   "display_name": "Python 3 (system-wide)",
   "language": "python",
   "metadata": {
    "cocalc": {
     "description": "Python 3 programming language",
     "priority": 100,
     "url": "https://www.python.org/"
    }
   },
   "name": "python3"
  },
  "language_info": {
   "codemirror_mode": {
    "name": "ipython",
    "version": 3
   },
   "file_extension": ".py",
   "mimetype": "text/x-python",
   "name": "python",
   "nbconvert_exporter": "python",
   "pygments_lexer": "ipython3",
   "version": "3.8.2"
  }
 },
 "nbformat": 4,
 "nbformat_minor": 4
}